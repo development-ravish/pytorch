{
  "nbformat": 4,
  "nbformat_minor": 0,
  "metadata": {
    "colab": {
      "provenance": []
    },
    "kernelspec": {
      "name": "python3",
      "display_name": "Python 3"
    },
    "language_info": {
      "name": "python"
    }
  },
  "cells": [
    {
      "cell_type": "code",
      "execution_count": 2,
      "metadata": {
        "id": "tkoofB0S9M7k"
      },
      "outputs": [],
      "source": [
        "import torch\n",
        "import torch.nn as nn\n",
        "import numpy as np\n",
        "import matplotlib.pyplot as plt\n"
      ]
    },
    {
      "cell_type": "code",
      "source": [
        "#generate 20 artifical data points\n",
        "N = 20\n",
        "\n",
        "#random data ranging from -5 to 5\n",
        "X = np.random.random(N)*10-5"
      ],
      "metadata": {
        "id": "odikGpv09e2W"
      },
      "execution_count": 3,
      "outputs": []
    },
    {
      "cell_type": "code",
      "source": [
        "#generate data points on Y axis\n",
        "Y = 0.5*X-1+np.random.random(N)"
      ],
      "metadata": {
        "id": "XzSO_N1y92td"
      },
      "execution_count": 5,
      "outputs": []
    },
    {
      "cell_type": "code",
      "source": [
        "#plt the synthetic data\n",
        "plt.scatter(X,Y)"
      ],
      "metadata": {
        "colab": {
          "base_uri": "https://localhost:8080/",
          "height": 448
        },
        "id": "57JzVWJm93Rt",
        "outputId": "5599322d-4c6e-4325-fbba-66032580625b"
      },
      "execution_count": 7,
      "outputs": [
        {
          "output_type": "execute_result",
          "data": {
            "text/plain": [
              "<matplotlib.collections.PathCollection at 0x7bffaef83cd0>"
            ]
          },
          "metadata": {},
          "execution_count": 7
        },
        {
          "output_type": "display_data",
          "data": {
            "text/plain": [
              "<Figure size 640x480 with 1 Axes>"
            ],
            "image/png": "[encoded data removed]"
          },
          "metadata": {}
        }
      ]
    },
    {
      "cell_type": "code",
      "source": [
        "#create the binary regression model\n",
        "#creating the linear model with 1 input and 1 output\n",
        "model = nn.Linear(1,1)"
      ],
      "metadata": {
        "id": "uqJg5Uoj-AJ6"
      },
      "execution_count": 8,
      "outputs": []
    },
    {
      "cell_type": "code",
      "source": [
        "model"
      ],
      "metadata": {
        "colab": {
          "base_uri": "https://localhost:8080/"
        },
        "id": "rRln6FRs-Qtv",
        "outputId": "92f4c2b8-ec7d-4fe0-c699-913b729d77a7"
      },
      "execution_count": 9,
      "outputs": [
        {
          "output_type": "execute_result",
          "data": {
            "text/plain": [
              "Linear(in_features=1, out_features=1, bias=True)"
            ]
          },
          "metadata": {},
          "execution_count": 9
        }
      ]
    },
    {
      "cell_type": "code",
      "source": [
        "#definnig the loss function\n",
        "criterion = nn.MSELoss()"
      ],
      "metadata": {
        "id": "NF3c3zv9-RlI"
      },
      "execution_count": 13,
      "outputs": []
    },
    {
      "cell_type": "code",
      "source": [
        "criterion"
      ],
      "metadata": {
        "colab": {
          "base_uri": "https://localhost:8080/"
        },
        "id": "Oge2Cix3-YmH",
        "outputId": "ec77b0ab-c9f4-4e04-ac85-41ad0a60140e"
      },
      "execution_count": 14,
      "outputs": [
        {
          "output_type": "execute_result",
          "data": {
            "text/plain": [
              "MSELoss()"
            ]
          },
          "metadata": {},
          "execution_count": 14
        }
      ]
    },
    {
      "cell_type": "code",
      "source": [
        "#defining the optimizer, here we are using SGD optimizer\n",
        "optimizer = torch.optim.SGD(model.parameters(),lr = 0.1)"
      ],
      "metadata": {
        "id": "ZeLUcgVU-anb"
      },
      "execution_count": 17,
      "outputs": []
    },
    {
      "cell_type": "code",
      "source": [
        "optimizer"
      ],
      "metadata": {
        "colab": {
          "base_uri": "https://localhost:8080/"
        },
        "id": "KorUJr4V-mrc",
        "outputId": "7a891e67-39fc-493d-ab38-78d11121e19e"
      },
      "execution_count": 18,
      "outputs": [
        {
          "output_type": "execute_result",
          "data": {
            "text/plain": [
              "SGD (\n",
              "Parameter Group 0\n",
              "    dampening: 0\n",
              "    differentiable: False\n",
              "    foreach: None\n",
              "    lr: 0.1\n",
              "    maximize: False\n",
              "    momentum: 0\n",
              "    nesterov: False\n",
              "    weight_decay: 0\n",
              ")"
            ]
          },
          "metadata": {},
          "execution_count": 18
        }
      ]
    },
    {
      "cell_type": "code",
      "source": [
        "#transform the data\n",
        "#we would like the data to be of a specific shape\n",
        "#(number_of_samples X number_of_dimensions)\n",
        "\n",
        "X = X.reshape(N,1)\n",
        "Y = Y.reshape(N,1)"
      ],
      "metadata": {
        "id": "_nSrUJ_Z_OW_"
      },
      "execution_count": 19,
      "outputs": []
    },
    {
      "cell_type": "code",
      "source": [
        "X,Y"
      ],
      "metadata": {
        "colab": {
          "base_uri": "https://localhost:8080/"
        },
        "id": "Bsvo-AvZ_lhy",
        "outputId": "24662754-c4a5-4a3c-fba1-fbf09303ae15"
      },
      "execution_count": 21,
      "outputs": [
        {
          "output_type": "execute_result",
          "data": {
            "text/plain": [
              "(array([[ 0.15542474],\n",
              "        [-3.55779209],\n",
              "        [ 2.4116893 ],\n",
              "        [ 1.02653067],\n",
              "        [-1.58795036],\n",
              "        [ 0.20011586],\n",
              "        [-4.51002086],\n",
              "        [ 4.44428327],\n",
              "        [-0.76868489],\n",
              "        [ 1.74024006],\n",
              "        [-3.31433999],\n",
              "        [ 4.73302061],\n",
              "        [ 2.05118381],\n",
              "        [ 0.30387717],\n",
              "        [-1.42796048],\n",
              "        [-2.6089342 ],\n",
              "        [-2.54765484],\n",
              "        [ 3.92407112],\n",
              "        [-0.39681127],\n",
              "        [-3.54704735]]),\n",
              " array([[-7.47523813e-01],\n",
              "        [-2.20108496e+00],\n",
              "        [ 9.22533265e-01],\n",
              "        [ 9.22913204e-02],\n",
              "        [-1.63490243e+00],\n",
              "        [-3.82162450e-01],\n",
              "        [-2.29995844e+00],\n",
              "        [ 1.77435255e+00],\n",
              "        [-1.23880016e+00],\n",
              "        [ 1.39058249e-03],\n",
              "        [-2.64593104e+00],\n",
              "        [ 2.03034862e+00],\n",
              "        [ 2.98677789e-01],\n",
              "        [-3.62835801e-02],\n",
              "        [-1.14361304e+00],\n",
              "        [-1.34131314e+00],\n",
              "        [-1.47794403e+00],\n",
              "        [ 1.63056624e+00],\n",
              "        [-7.86275379e-01],\n",
              "        [-2.22525730e+00]]))"
            ]
          },
          "metadata": {},
          "execution_count": 21
        }
      ]
    },
    {
      "cell_type": "code",
      "source": [
        "#transform the data\n",
        "#pytorch does not allow the conventional numpy array rather it works with the torch tensors\n",
        "#torch tensors are kind of special array that works with the pytorch library and they are different from the numpy array\n",
        "#also we need to change the datatype also as pytorch is picky about the datatypes\n",
        "#it doesn not allow the multiplication of floar 32 and float64\n",
        "inputs = torch.from_numpy(X.astype(np.float32))\n",
        "targets = torch.from_numpy(Y.astype(np.float32))"
      ],
      "metadata": {
        "id": "70bOpGjW-uB7"
      },
      "execution_count": 22,
      "outputs": []
    },
    {
      "cell_type": "code",
      "source": [
        "type(inputs), type(targets)"
      ],
      "metadata": {
        "colab": {
          "base_uri": "https://localhost:8080/"
        },
        "id": "8-ss4uro_zvk",
        "outputId": "78a7ce50-0731-4fd3-8eaf-aafb12b771cc"
      },
      "execution_count": 23,
      "outputs": [
        {
          "output_type": "execute_result",
          "data": {
            "text/plain": [
              "(torch.Tensor, torch.Tensor)"
            ]
          },
          "metadata": {},
          "execution_count": 23
        }
      ]
    },
    {
      "cell_type": "code",
      "source": [
        "#train the model\n",
        "n_epochs = 30\n",
        "losses = []\n",
        "for it in range(n_epochs):\n",
        "  optimizer.zero_grad() # this will prevents pytorch to accumulate the gradients when we hit the backwords\n",
        "  outputs = model(inputs)\n",
        "  loss = criterion(outputs,inputs)\n",
        "  losses.append(loss.item()) #we use item function here because loss is a single value and it will convert the loss value from pytorch to python understandables and helps in plotting as well\n",
        "  loss.backward() # this calculates the gradient (partial differentialtion of the loss function)\n",
        "  optimizer.step() #this calculates the gradient descent equation theta = theta - learning_rate(gradient)\n",
        "  print(f'Epoch{it+1}/{n_epochs}, Loss:{loss.item():.4f}')\n",
        "\n"
      ],
      "metadata": {
        "colab": {
          "base_uri": "https://localhost:8080/"
        },
        "id": "kL_D6XE4_3gj",
        "outputId": "36ff56cc-e5f3-49ac-d444-126221c7ce02"
      },
      "execution_count": 25,
      "outputs": [
        {
          "output_type": "stream",
          "name": "stdout",
          "text": [
            "Epoch1/30, Loss:24.7148\n",
            "Epoch2/30, Loss:5.6809\n",
            "Epoch3/30, Loss:1.3903\n",
            "Epoch4/30, Loss:0.3925\n",
            "Epoch5/30, Loss:0.1411\n",
            "Epoch6/30, Loss:0.0660\n",
            "Epoch7/30, Loss:0.0369\n",
            "Epoch8/30, Loss:0.0225\n",
            "Epoch9/30, Loss:0.0141\n",
            "Epoch10/30, Loss:0.0090\n",
            "Epoch11/30, Loss:0.0058\n",
            "Epoch12/30, Loss:0.0037\n",
            "Epoch13/30, Loss:0.0024\n",
            "Epoch14/30, Loss:0.0015\n",
            "Epoch15/30, Loss:0.0010\n",
            "Epoch16/30, Loss:0.0006\n",
            "Epoch17/30, Loss:0.0004\n",
            "Epoch18/30, Loss:0.0003\n",
            "Epoch19/30, Loss:0.0002\n",
            "Epoch20/30, Loss:0.0001\n",
            "Epoch21/30, Loss:0.0001\n",
            "Epoch22/30, Loss:0.0000\n",
            "Epoch23/30, Loss:0.0000\n",
            "Epoch24/30, Loss:0.0000\n",
            "Epoch25/30, Loss:0.0000\n",
            "Epoch26/30, Loss:0.0000\n",
            "Epoch27/30, Loss:0.0000\n",
            "Epoch28/30, Loss:0.0000\n",
            "Epoch29/30, Loss:0.0000\n",
            "Epoch30/30, Loss:0.0000\n"
          ]
        }
      ]
    },
    {
      "cell_type": "code",
      "source": [
        "plt.plot(losses)"
      ],
      "metadata": {
        "colab": {
          "base_uri": "https://localhost:8080/",
          "height": 448
        },
        "id": "uIX-9Q4lBO6s",
        "outputId": "0928b8ac-edba-4d7a-8e54-4563d42af6cc"
      },
      "execution_count": 27,
      "outputs": [
        {
          "output_type": "execute_result",
          "data": {
            "text/plain": [
              "[<matplotlib.lines.Line2D at 0x7bffaf6b11b0>]"
            ]
          },
          "metadata": {},
          "execution_count": 27
        },
        {
          "output_type": "display_data",
          "data": {
            "text/plain": [
              "<Figure size 640x480 with 1 Axes>"
            ],
            "image/png": "[encoded data removed]"
          },
          "metadata": {}
        }
      ]
    },
    {
      "cell_type": "code",
      "source": [
        "#using the trained model to get the predictions\n",
        "\n",
        "#BTS pytorch creates a graph and keep track of the gradients in the graph\n",
        "#so in case we need to convert the tensor back to the numpy array\n",
        "#we need to call detach() function to first detach the tensor from the graph\n",
        "#and convert it into the numpy array\n",
        "predicted = model(inputs).detach().numpy()"
      ],
      "metadata": {
        "id": "__Crd5juBUxQ"
      },
      "execution_count": 28,
      "outputs": []
    },
    {
      "cell_type": "code",
      "source": [
        "plt.scatter(X,Y,label = 'Original_Data')\n",
        "plt.plot(X,predicted, label = 'Fitted_Line')\n",
        "plt.legend\n",
        "plt.show"
      ],
      "metadata": {
        "colab": {
          "base_uri": "https://localhost:8080/",
          "height": 448
        },
        "id": "dHiagvftB1O7",
        "outputId": "8fd1575a-b36a-4dbb-8420-6fae2337786f"
      },
      "execution_count": 29,
      "outputs": [
        {
          "output_type": "execute_result",
          "data": {
            "text/plain": [
              "<function matplotlib.pyplot.show(close=None, block=None)>"
            ]
          },
          "metadata": {},
          "execution_count": 29
        },
        {
          "output_type": "display_data",
          "data": {
            "text/plain": [
              "<Figure size 640x480 with 1 Axes>"
            ],
            "image/png": "[encoded data removed]"
          },
          "metadata": {}
        }
      ]
    },
    {
      "cell_type": "code",
      "source": [
        "#last thing we would like to do is to check and inspect the model and to see if the parameters are close to the true values\n",
        "#we used synthetic data so we know the values of parametrs w and b == 0.5 and 1 respectively\n",
        "#this helps us in model evaluation\n",
        "w = model.weight.data.numpy()\n",
        "b = model.bias.data.numpy()\n"
      ],
      "metadata": {
        "id": "J-4Q8qVBCIn_"
      },
      "execution_count": 31,
      "outputs": []
    },
    {
      "cell_type": "code",
      "source": [
        "w,b"
      ],
      "metadata": {
        "colab": {
          "base_uri": "https://localhost:8080/"
        },
        "id": "7NiC6K0VCmkL",
        "outputId": "8583164e-7672-43b8-fba3-7d80dbd46a81"
      },
      "execution_count": 32,
      "outputs": [
        {
          "output_type": "execute_result",
          "data": {
            "text/plain": [
              "(array([[1.0000231]], dtype=float32), array([0.00089521], dtype=float32))"
            ]
          },
          "metadata": {},
          "execution_count": 32
        }
      ]
    },
    {
      "cell_type": "code",
      "source": [],
      "metadata": {
        "id": "mBq1V5ZxCpkX"
      },
      "execution_count": null,
      "outputs": []
    }
  ]
}